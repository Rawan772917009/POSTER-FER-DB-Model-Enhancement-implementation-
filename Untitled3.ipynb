{
 "cells": [
  {
   "cell_type": "code",
   "execution_count": 49,
   "id": "2dc471a3-3331-41e1-bf7f-86fcb75a8238",
   "metadata": {
    "tags": []
   },
   "outputs": [],
   "source": [
    "import warnings\n",
    "warnings.filterwarnings(\"ignore\")\n",
    "import numpy as np\n",
    "import torch.utils.data as data\n",
    "from torchvision import transforms,datasets\n",
    "import torch\n",
    "import os\n",
    "import argparse\n",
    "from data_preprocessing.dataset_raf import RafDataSet\n",
    "from data_preprocessing.dataset_affectnet import Affectdataset\n",
    "from data_preprocessing.dataset_affectnet_8class import Affectdataset_8class\n",
    "\n",
    "from utils import *\n",
    "from models.emotion_hyp import pyramid_trans_expr\n",
    "from sklearn.metrics import confusion_matrix\n",
    "from data_preprocessing.plot_confusion_matrix import plot_confusion_matrix\n",
    "\n",
    "device = 'cuda' if torch.cuda.is_available() else \"cpu\""
   ]
  },
  {
   "cell_type": "code",
   "execution_count": 50,
   "id": "75942da4-0880-45fa-8e0b-5e78be6b3cb3",
   "metadata": {
    "tags": []
   },
   "outputs": [],
   "source": [
    "def parse_args():\n",
    "    parser = argparse.ArgumentParser()\n",
    "    parser.add_argument('--dataset', type=str, default='rafdb', help='dataset')\n",
    "    parser.add_argument('-c', '--checkpoint', type=str, default=None, help='Pytorch checkpoint file path')\n",
    "    parser.add_argument('--batch_size', type=int, default=32, help='Batch size.')\n",
    "    parser.add_argument('--modeltype', type=str, default='large', help='small or base or large')\n",
    "    parser.add_argument('--workers', default=2, type=int, help='Number of data loading workers (default: 4)')\n",
    "    parser.add_argument('--cpu', type=str, default='0', help='assign multi-gpus by comma concat')\n",
    "    parser.add_argument('-p', '--plot_cm', action=\"store_true\", help=\"Ploting confusion matrix.\")\n",
    "    return parser.parse_args()\n"
   ]
  },
  {
   "cell_type": "code",
   "execution_count": 51,
   "id": "44e73a78-4e11-464e-82ee-c1cee364bdb9",
   "metadata": {
    "tags": []
   },
   "outputs": [],
   "source": [
    "def test():\n",
    "    args = parse_args()\n",
    "   # os.environ['CUDA_VISIBLE_DEVICES'] = str(args.cpu)\n",
    "   # print(\"Work on CPU: \", os.environ['CUDA_VISIBLE_DEVICES'])\n",
    "\n",
    "    data_transforms_test = transforms.Compose([\n",
    "        transforms.ToPILImage(),\n",
    "        transforms.Resize((224, 224)),\n",
    "        transforms.ToTensor(),\n",
    "        transforms.Normalize(mean=[0.485, 0.456, 0.406], std=[0.229, 0.224, 0.225])])\n",
    "\n",
    "    num_classes = 7\n",
    "    if args.dataset == \"rafdb\":\n",
    "        datapath = '/data/raf-basic/'\n",
    "        num_classes = 7\n",
    "        test_dataset = RafDataSet(datapath, train=False, transform=data_transforms_test)\n",
    "        model = pyramid_trans_expr(img_size=224, num_classes=num_classes, type=args.modeltype)\n",
    "        print(\"Model Loaded\")\n",
    "\n",
    "    else:\n",
    "        return print('dataset name is not correct')"
   ]
  },
  {
   "cell_type": "code",
   "execution_count": 52,
   "id": "1a622ba1-1f21-4d0a-b9f5-08a1c105d7f2",
   "metadata": {
    "tags": []
   },
   "outputs": [],
   "source": [
    "   device = 'cuda' if torch.cuda.is_available() else \"cpu\"\n",
    "    \n",
    "   "
   ]
  },
  {
   "cell_type": "code",
   "execution_count": 53,
   "id": "b0973931-e403-466a-8054-fbfb5e7ed034",
   "metadata": {
    "tags": []
   },
   "outputs": [
    {
     "name": "stdout",
     "output_type": "stream",
     "text": [
      "load_weight 304\n"
     ]
    }
   ],
   "source": [
    "model = pyramid_trans_expr(img_size=224, num_classes=7)"
   ]
  },
  {
   "cell_type": "code",
   "execution_count": 54,
   "id": "6ebd127a-5ca3-4542-8f0d-7ca7bcd8b9dc",
   "metadata": {
    "tags": []
   },
   "outputs": [
    {
     "name": "stdout",
     "output_type": "stream",
     "text": [
      "load_weight 1309\n",
      "Test set size: 10\n"
     ]
    }
   ],
   "source": [
    "\n",
    "    checkpoint = torch.load('checkpoint/rafdb_best.pth',map_location=torch.device('cpu'))\n",
    "    checkpoint = checkpoint[\"model_state_dict\"]\n",
    "    model = load_pretrained_weights(model, checkpoint)\n",
    "test_dataset=\"testfolder\"\n",
    "    test_size = test_dataset.__len__()\n",
    "    print('Test set size:', test_size)\n",
    "\n",
    "\n",
    "\n",
    "\n"
   ]
  },
  {
   "cell_type": "code",
   "execution_count": 55,
   "id": "875ddc2d-9747-46a7-8f74-7eba0d29eecb",
   "metadata": {
    "tags": []
   },
   "outputs": [
    {
     "ename": "IndentationError",
     "evalue": "unexpected indent (1755210048.py, line 2)",
     "output_type": "error",
     "traceback": [
      "\u001b[1;36m  Cell \u001b[1;32mIn[55], line 2\u001b[1;36m\u001b[0m\n\u001b[1;33m    gt_labels = []\u001b[0m\n\u001b[1;37m    ^\u001b[0m\n\u001b[1;31mIndentationError\u001b[0m\u001b[1;31m:\u001b[0m unexpected indent\n"
     ]
    }
   ],
   "source": [
    "pre_labels = []\n",
    "   gt_labels = []\n",
    "    with torch.no_grad():\n",
    "        bingo_cnt = 0\n",
    "        model.eval()\n",
    "        for batch_i, (imgs, targets) in enumerate(test_loader):\n",
    "            outputs, features = model(imgs.to(device))\n",
    "            targets = targets.to(device)\n",
    "            _, predicts = torch.max(outputs, 1)\n",
    "            _, predicts = torch.max(outputs, 1)\n",
    "            correct_or_not = torch.eq(predicts, targets)\n",
    "            bingo_cnt += correct_or_not.sum().cpu()\n",
    "            pre_labels += predicts.cpu().tolist()\n",
    "            gt_labels += targets.cpu().tolist()\n",
    "\n",
    "\n",
    "        acc = bingo_cnt.float() / float(test_size)\n",
    "        acc = np.around(acc.numpy(), 4)\n",
    "        print(f\"Test accuracy: {acc:.4f}.\")\n",
    "        cm = confusion_matrix(gt_labels, pre_labels)\n",
    "        # print(cm)\n",
    "   if args.plot_cm:\n",
    "        cm = confusion_matrix(gt_labels, pre_labels)\n",
    "        cm = np.array(cm)\n",
    "        if args.dataset == \"rafdb\":\n",
    "            labels_name = ['SU', 'FE', 'DI', 'HA', 'SA', 'AN', \"NE\"]  #\n",
    "            plot_confusion_matrix(cm, labels_name, 'RAF-DB', acc)\n",
    "\n",
    "\n",
    "if __name__ == \"__main__\":                    \n",
    "    test()\n",
    " "
   ]
  },
  {
   "cell_type": "code",
   "execution_count": null,
   "id": "a31f9608-79f6-4d47-969a-c6ba9b49074f",
   "metadata": {},
   "outputs": [],
   "source": []
  },
  {
   "cell_type": "code",
   "execution_count": null,
   "id": "7c4b313b-25a4-43ba-9c9f-d2771d2f19db",
   "metadata": {},
   "outputs": [],
   "source": []
  }
 ],
 "metadata": {
  "kernelspec": {
   "display_name": "Python 3 (ipykernel)",
   "language": "python",
   "name": "python3"
  },
  "language_info": {
   "codemirror_mode": {
    "name": "ipython",
    "version": 3
   },
   "file_extension": ".py",
   "mimetype": "text/x-python",
   "name": "python",
   "nbconvert_exporter": "python",
   "pygments_lexer": "ipython3",
   "version": "3.11.5"
  }
 },
 "nbformat": 4,
 "nbformat_minor": 5
}
